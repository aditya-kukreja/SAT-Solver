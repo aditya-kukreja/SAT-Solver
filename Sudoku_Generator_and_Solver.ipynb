{
  "cells": [
    {
      "cell_type": "markdown",
      "metadata": {
        "id": "view-in-github",
        "colab_type": "text"
      },
      "source": [
        "<a href=\"https://colab.research.google.com/github/aditya-kukreja/SAT-Solver/blob/main/Sudoku_Generator_and_Solver.ipynb\" target=\"_parent\"><img src=\"https://colab.research.google.com/assets/colab-badge.svg\" alt=\"Open In Colab\"/></a>"
      ]
    },
    {
      "cell_type": "markdown",
      "source": [
        "The code below generates a solved sudoku grid of dimensions side×side\n",
        "\n"
      ],
      "metadata": {
        "id": "9rIG3d9GqJjp"
      }
    },
    {
      "cell_type": "code",
      "execution_count": 1,
      "metadata": {
        "colab": {
          "base_uri": "https://localhost:8080/"
        },
        "id": "zmmN8F2ehZzN",
        "outputId": "79241cc4-2560-4828-d7e7-7154aced942d"
      },
      "outputs": [
        {
          "output_type": "stream",
          "name": "stdout",
          "text": [
            "[3, 8, 2, 1, 7, 9, 5, 4, 6]\n",
            "[7, 1, 9, 6, 5, 4, 3, 2, 8]\n",
            "[5, 6, 4, 8, 3, 2, 7, 9, 1]\n",
            "[8, 2, 5, 9, 1, 3, 6, 7, 4]\n",
            "[6, 4, 7, 2, 8, 5, 1, 3, 9]\n",
            "[1, 9, 3, 4, 6, 7, 8, 5, 2]\n",
            "[2, 5, 6, 3, 9, 8, 4, 1, 7]\n",
            "[4, 7, 1, 5, 2, 6, 9, 8, 3]\n",
            "[9, 3, 8, 7, 4, 1, 2, 6, 5]\n"
          ]
        }
      ],
      "source": [
        "from dpll_algo import *\n",
        "import sys\n",
        "import numpy as np\n",
        "\n",
        "\n",
        "f2= open('DIMACS_Sudoku','w')\n",
        "f= open('sudoku.txt', 'w')\n",
        "base  = 2\n",
        "side  = base**2\n",
        "\n",
        "\n",
        "def pattern(r,c): \n",
        "  return (base*(r%base)+r//base+c)%side\n",
        "\n",
        "\n",
        "from random import sample\n",
        "def shuffle(s): return sample(s,len(s)) \n",
        "rBase = range(base) \n",
        "rows  = [ g*base + r for g in shuffle(rBase) for r in shuffle(rBase) ] \n",
        "cols  = [ g*base + c for g in shuffle(rBase) for c in shuffle(rBase) ]\n",
        "nums  = shuffle(range(1,base*base+1))\n",
        "\n",
        "board = [ [nums[pattern(r,c)] for c in cols] for r in rows ]\n",
        "\n",
        "\n",
        "for line in board: print(line)"
      ]
    },
    {
      "cell_type": "markdown",
      "source": [
        "The code below deletes random elements from the grid to create a Sudoku Puzzle\n",
        "\n",
        "---\n",
        "\n"
      ],
      "metadata": {
        "id": "8wUJoqhFqfsM"
      }
    },
    {
      "cell_type": "code",
      "execution_count": 2,
      "metadata": {
        "id": "UENgliJImSyc"
      },
      "outputs": [],
      "source": [
        "\n",
        "orig_stdout = sys.stdout\n",
        "\n",
        "sys.stdout = f\n",
        "\n",
        "squares = side*side\n",
        "empties = squares * 1//10\n",
        "for p in sample(range(squares),empties):\n",
        "    board[p//side][p%side] = 0\n",
        "\n",
        "numSize = len(str(side))\n",
        "for line in board:\n",
        "    print(*(f\"{n or '.':{numSize}}\" for n in line),sep=' ')\n",
        "\n",
        "sys.stdout = orig_stdout\n",
        "for line in board:\n",
        "    print(*(f\"{n or '.':{numSize}}\" for n in line),sep=' ')\n",
        "\n",
        "f.close()\n",
        "\n",
        "\n",
        "\n"
      ]
    },
    {
      "cell_type": "markdown",
      "source": [
        "The below code encodes the sudoku board in the form of a DIMACS file that would be used as the input file for the SAT solver"
      ],
      "metadata": {
        "id": "yDtrL3WZqyZB"
      }
    },
    {
      "cell_type": "code",
      "execution_count": 3,
      "metadata": {
        "id": "lUBFZr3nrX4n"
      },
      "outputs": [],
      "source": [
        "f3=open('sudoku.txt','r')\n",
        "literalNo=side**3\n",
        "x=((side**4)/2)-(side**3/2)+(4*(side**2))\n",
        "countClues=0\n",
        "positionList=[]\n",
        "for i in range(side):\n",
        "    s=f3.readline().split()\n",
        "    for j in range(side):\n",
        "      if s[j] != '.':\n",
        "        countClues=countClues+1\n",
        "        positionList.append(i*(side**2)+j*side+int(s[j]))\n",
        "\n",
        "sys.stdout = f2\n",
        "       \n",
        "print(\"p cnf\",literalNo,int(x+countClues))\n",
        "\n",
        "for i in range(len(positionList)):\n",
        "  print(positionList[i], 0)\n",
        "\n",
        "for i in range(side**2):\n",
        "  for j in range(side):\n",
        "     print(side*i + j + 1,end=\" \")\n",
        "  print(\"0\")   \n",
        "\n",
        "for i in range(side**2):\n",
        "  for j in range(side):\n",
        "     for k in range(j+1,side):\n",
        "        print(-1*(side*i+j+1),-1*(side*i+k+1),end=\" \")\n",
        "        print(\"0\")\n",
        "\n",
        "\n",
        "for i in range(side):\n",
        "  for j in range(side):\n",
        "     for k in range(side):\n",
        "        print((side**2)*i+side*k+j+1,end=\" \")\n",
        "     print(\"0\")        \n",
        "\n",
        "\n",
        "for i in range(side):\n",
        "  for j in range(side):\n",
        "     for k in range(side):\n",
        "        print(side*i+(side**2)*k+j+1,end=\" \")\n",
        "     print(\"0\")        \n",
        "\n",
        "for d in range(base):\n",
        " for z in range(base): \n",
        "   for i in range(side):\n",
        "     for j in range(base):\n",
        "       for k in range(base):\n",
        "          print((side**2)*base*d+(side*base*z)+(side**2)*j+side*k+i+1,end=\" \")\n",
        "     print(\"0\")         \n",
        "\n",
        "\n"
      ]
    },
    {
      "cell_type": "markdown",
      "source": [
        "Here we call the DPLL_Solver function to solve the SAT problem and then decode the output file to generate the solved sudoku board"
      ],
      "metadata": {
        "id": "XpU54dc9q9-9"
      }
    },
    {
      "cell_type": "code",
      "execution_count": 5,
      "metadata": {
        "id": "aie7Vw8hEhJu",
        "colab": {
          "base_uri": "https://localhost:8080/"
        },
        "outputId": "0dd5565b-7c83-4193-b8f4-9f36a197d34e"
      },
      "outputs": [
        {
          "output_type": "stream",
          "name": "stdout",
          "text": [
            "3 8 2 1 7 9 5 4 6  \n",
            "7 1 9 6 5 4 3 2 8  \n",
            "5 6 4 8 3 2 7 9 1  \n",
            "8 2 5 9 1 3 6 7 4  \n",
            "6 4 7 2 8 5 1 3 9  \n",
            "1 9 3 4 6 7 8 5 2  \n",
            "2 5 6 3 9 8 4 1 7  \n",
            "4 7 1 5 2 6 9 8 3  \n",
            "9 3 8 7 4 1 2 6 5  \n"
          ]
        }
      ],
      "source": [
        "f4=open('solution_SAT.txt','w')\n",
        "sys.stdout = f4\n",
        "\n",
        "f5 = open(\"DIMACS_Sudoku\", \"r\")\n",
        "\n",
        "literalNum=0\n",
        "clauseNum=0\n",
        "while True:\n",
        "  s=f5.readline()\n",
        "  s=s.split()\n",
        "  if s[0][0]=='c' :\n",
        "    continue\n",
        "  else:   \n",
        "    literalNum=int(s[2])\n",
        "    clauseNum=int(s[3])\n",
        "    break\n",
        "clauses = []\n",
        "literalCount=np.zeros(literalNum)\n",
        "literalSignCount=np.zeros(literalNum)\n",
        "literalAssignment=np.full(literalNum, -1)\n",
        "for i in range(clauseNum):\n",
        "    s=f5.readline()\n",
        "    s=s.split()\n",
        "    a=np.full(literalNum, -1)\n",
        "    for j in range(len(s)-1):  \n",
        "      b=int(s[j])\n",
        "      if b>0:\n",
        "       literalCount[abs(b)-1]=literalCount[abs(b)-1]+1\n",
        "       literalSignCount[abs(b)-1]=literalSignCount[abs(b)-1]+1\n",
        "       a[abs(b)-1]=1\n",
        "      elif b<0 :\n",
        "       literalCount[abs(b)-1]=literalCount[abs(b)-1]+1\n",
        "       literalSignCount[abs(b)-1]=literalSignCount[abs(b)-1]-1\n",
        "       a[abs(b)-1]=0\n",
        "      else: \n",
        "       break \n",
        "    clauses.append(a)\n",
        "\n",
        "\n",
        "DPLL_Solver(clauses,literalAssignment,literalCount,literalSignCount)\n",
        "\n",
        "f4.close()\n",
        "\n",
        "f6=open('solution_SAT.txt','r')\n",
        "Output=[]\n",
        "sys.stdout=orig_stdout\n",
        "x=f6.readline()\n",
        "x=f6.readline()\n",
        "x=x.split()\n",
        "for i in range(side**3):\n",
        "  if int(x[i])>0:\n",
        "     if int(x[i])%side==0:\n",
        "       Output.append(side)\n",
        "     else:  \n",
        "       Output.append(int(x[i])%side)\n",
        "\n",
        "for i in range(side**2):\n",
        "     print(Output[i],end=\" \")\n",
        "     if i%side==(side-1):\n",
        "       print(\" \")\n",
        "\n",
        "\n",
        "   \n"
      ]
    }
  ],
  "metadata": {
    "colab": {
      "name": "Sudoku Generator and Solver",
      "provenance": [],
      "authorship_tag": "ABX9TyMsq/Fpq/EBqTRF4KaM1R5k",
      "include_colab_link": true
    },
    "kernelspec": {
      "display_name": "Python 3",
      "name": "python3"
    },
    "language_info": {
      "name": "python"
    }
  },
  "nbformat": 4,
  "nbformat_minor": 0
}